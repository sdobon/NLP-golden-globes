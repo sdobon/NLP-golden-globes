{
 "cells": [
  {
   "cell_type": "code",
   "execution_count": 1,
   "metadata": {},
   "outputs": [],
   "source": [
    "import json\n",
    "import nltk\n",
    "from nltk import word_tokenize\n",
    "from nltk.text import Text\n",
    "\n",
    "from pprint import pprint\n",
    "\n",
    "raw = \"the project gutenberg ebook is available for free. the fork is in the raw chicken\"\n",
    "\n",
    "tokens = word_tokenize(raw)\n",
    "\n",
    "#d = Text(raw)\n",
    "\n",
    "with open('gg2013.json') as f:\n",
    "    data = json.load(f)\n",
    "\n",
    "texts = []\n",
    "for d in data:\n",
    "    texts.append(d['text'])\n",
    "\n",
    "z = \"\"\n",
    "for t in texts:\n",
    "    z += t\n",
    "#\n",
    "#token = word_tokenize(z)\n",
    "#\n",
    "#text = Text(token)\n",
    "#\n",
    "#text.concordance(\"host\")\n"
   ]
  },
  {
   "cell_type": "code",
   "execution_count": null,
   "metadata": {},
   "outputs": [],
   "source": []
  }
 ],
 "metadata": {
  "kernelspec": {
   "display_name": "Python 3",
   "language": "python",
   "name": "python3"
  },
  "language_info": {
   "codemirror_mode": {
    "name": "ipython",
    "version": 3
   },
   "file_extension": ".py",
   "mimetype": "text/x-python",
   "name": "python",
   "nbconvert_exporter": "python",
   "pygments_lexer": "ipython3",
   "version": "3.6.5"
  }
 },
 "nbformat": 4,
 "nbformat_minor": 2
}
